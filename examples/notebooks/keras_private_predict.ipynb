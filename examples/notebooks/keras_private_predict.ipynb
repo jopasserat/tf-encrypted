{
 "cells": [
  {
   "cell_type": "code",
   "execution_count": 1,
   "metadata": {},
   "outputs": [
    {
     "name": "stderr",
     "output_type": "stream",
     "text": [
      "WARNING:tf_encrypted:Falling back to insecure randomness since the required custom op could not be found for the installed version of TensorFlow (1.13.1). Fix this by compiling custom ops.\n"
     ]
    }
   ],
   "source": [
    "import tensorflow as tf\n",
    "import numpy as np\n",
    "\n",
    "import tf_encrypted as tfe"
   ]
  },
  {
   "cell_type": "code",
   "execution_count": 2,
   "metadata": {},
   "outputs": [],
   "source": [
    "from tensorflow.keras.layers import Dense, ReLU\n",
    "from tensorflow.keras.models import Sequential"
   ]
  },
  {
   "cell_type": "markdown",
   "metadata": {},
   "source": [
    "## Plaintext model"
   ]
  },
  {
   "cell_type": "code",
   "execution_count": 3,
   "metadata": {},
   "outputs": [
    {
     "name": "stdout",
     "output_type": "stream",
     "text": [
      "WARNING:tensorflow:From /anaconda3/envs/pysyft_36/lib/python3.6/site-packages/tensorflow/python/ops/resource_variable_ops.py:435: colocate_with (from tensorflow.python.framework.ops) is deprecated and will be removed in a future version.\n",
      "Instructions for updating:\n",
      "Colocations handled automatically by placer.\n"
     ]
    },
    {
     "name": "stderr",
     "output_type": "stream",
     "text": [
      "WARNING:tensorflow:From /anaconda3/envs/pysyft_36/lib/python3.6/site-packages/tensorflow/python/ops/resource_variable_ops.py:435: colocate_with (from tensorflow.python.framework.ops) is deprecated and will be removed in a future version.\n",
      "Instructions for updating:\n",
      "Colocations handled automatically by placer.\n"
     ]
    }
   ],
   "source": [
    "model_k = Sequential([Dense(5, batch_input_shape=[1,32]), \n",
    "                      Dense(2)])"
   ]
  },
  {
   "cell_type": "code",
   "execution_count": 4,
   "metadata": {},
   "outputs": [
    {
     "data": {
      "text/plain": [
       "array([[0.03096867, 1.7848865 ]], dtype=float32)"
      ]
     },
     "execution_count": 4,
     "metadata": {},
     "output_type": "execute_result"
    }
   ],
   "source": [
    "data = np.ones(shape=[1, 32]).astype('float')\n",
    "model_k.predict(data)"
   ]
  },
  {
   "cell_type": "markdown",
   "metadata": {},
   "source": [
    "## Create tfe keras model based on keras config and set weights"
   ]
  },
  {
   "cell_type": "code",
   "execution_count": 5,
   "metadata": {},
   "outputs": [],
   "source": [
    "keras_weights = model_k.get_weights()\n",
    "config = model_k.get_config()"
   ]
  },
  {
   "cell_type": "code",
   "execution_count": 6,
   "metadata": {},
   "outputs": [],
   "source": [
    "tf.reset_default_graph()\n",
    "\n",
    "with tfe.protocol.SecureNN():\n",
    "    tfe_model = tfe.keras.Sequential([])\n",
    "    tfe_model.from_config(config)\n",
    "    x = tfe.define_private_variable(data)\n",
    "    \n",
    "    y = tfe_model(x)"
   ]
  },
  {
   "cell_type": "code",
   "execution_count": 7,
   "metadata": {},
   "outputs": [
    {
     "data": {
      "text/plain": [
       "[PondPrivateVariable(shape=(32, 5)), PondPrivateVariable(shape=(5,))]"
      ]
     },
     "execution_count": 7,
     "metadata": {},
     "output_type": "execute_result"
    }
   ],
   "source": [
    "tfe_model.layers[0].weights"
   ]
  },
  {
   "cell_type": "code",
   "execution_count": 8,
   "metadata": {},
   "outputs": [
    {
     "name": "stderr",
     "output_type": "stream",
     "text": [
      "INFO:tf_encrypted:Players: ['server0', 'server1', 'server2']\n"
     ]
    },
    {
     "name": "stdout",
     "output_type": "stream",
     "text": [
      "[<tf_encrypted.keras.layers.dense.Dense object at 0x135e6c208>, <tf_encrypted.keras.layers.dense.Dense object at 0x135e6c240>]\n"
     ]
    }
   ],
   "source": [
    "with tfe.Session() as sess:\n",
    "    sess.run(tf.global_variables_initializer())\n",
    "    tfe_model.set_weights(keras_weights, sess)\n",
    "    actual = sess.run(y.reveal())"
   ]
  },
  {
   "cell_type": "code",
   "execution_count": 9,
   "metadata": {},
   "outputs": [
    {
     "name": "stdout",
     "output_type": "stream",
     "text": [
      "[[ 0.77838744 -1.13519281]]\n"
     ]
    }
   ],
   "source": [
    "print(actual)"
   ]
  },
  {
   "cell_type": "code",
   "execution_count": null,
   "metadata": {},
   "outputs": [],
   "source": []
  },
  {
   "cell_type": "code",
   "execution_count": 10,
   "metadata": {},
   "outputs": [],
   "source": [
    "keras_weights = model_k.get_weights()\n",
    "config = model_k.get_config()"
   ]
  },
  {
   "cell_type": "code",
   "execution_count": 11,
   "metadata": {},
   "outputs": [],
   "source": [
    "def update_weights(tfe_model, sess):\n",
    "    \n",
    "#     w1 = tfe_model.layers[0].kernel\n",
    "#     b1 = tfe_model.layers[0].bias\n",
    "#     w2 = tfe_model.layers[1].kernel\n",
    "#     b2 = tfe_model.layers[1].bias\n",
    "    \n",
    "#     w1 = tfe_model.weights[0]\n",
    "#     b1 = tfe_model.weights[1]\n",
    "#     w2 = tfe_model.weights[2]\n",
    "#     b2 = tfe_model.weights[3]\n",
    "    \n",
    "    w1 = tfe_model.layers[0].weights[0]\n",
    "    b1 = tfe_model.layers[0].weights[1]\n",
    "    w2 = tfe_model.layers[1].weights[0]\n",
    "    b2 = tfe_model.layers[1].weights[1]\n",
    "    \n",
    "    w1_up = tfe.define_private_variable(keras_weights[0])\n",
    "    b1_up = tfe.define_private_variable(keras_weights[1])\n",
    "    w2_up = tfe.define_private_variable(keras_weights[2])\n",
    "    b2_up = tfe.define_private_variable(keras_weights[3])\n",
    "    \n",
    "    sess.run(tf.global_variables_initializer())\n",
    "    sess.run(tfe.assign(w1, w1_up))\n",
    "    sess.run(tfe.assign(b1, b1_up))\n",
    "    sess.run(tfe.assign(w2, w2_up))\n",
    "    sess.run(tfe.assign(b2, b2_up))\n",
    "    "
   ]
  },
  {
   "cell_type": "code",
   "execution_count": 12,
   "metadata": {},
   "outputs": [
    {
     "name": "stderr",
     "output_type": "stream",
     "text": [
      "INFO:tf_encrypted:Players: ['server0', 'server1', 'server2']\n"
     ]
    },
    {
     "name": "stdout",
     "output_type": "stream",
     "text": [
      "[[0.03109282 1.78524615]]\n"
     ]
    }
   ],
   "source": [
    "tf.reset_default_graph()\n",
    "\n",
    "with tfe.protocol.SecureNN():\n",
    "    tfe_model = tfe.keras.Sequential([])\n",
    "    tfe_model.from_config(config)\n",
    "    x = tfe.define_private_variable(data)\n",
    "    \n",
    "    y = tfe_model(x)\n",
    "\n",
    "with tfe.Session() as sess:\n",
    "    sess.run(tf.global_variables_initializer())\n",
    "    \n",
    "    update_weights(tfe_model, sess)\n",
    "    \n",
    "    actual = sess.run(y.reveal())\n",
    "    \n",
    "print(actual)"
   ]
  },
  {
   "cell_type": "code",
   "execution_count": null,
   "metadata": {},
   "outputs": [],
   "source": []
  }
 ],
 "metadata": {
  "kernelspec": {
   "display_name": "Python 3",
   "language": "python",
   "name": "python3"
  },
  "language_info": {
   "codemirror_mode": {
    "name": "ipython",
    "version": 3
   },
   "file_extension": ".py",
   "mimetype": "text/x-python",
   "name": "python",
   "nbconvert_exporter": "python",
   "pygments_lexer": "ipython3",
   "version": "3.6.7"
  }
 },
 "nbformat": 4,
 "nbformat_minor": 2
}
